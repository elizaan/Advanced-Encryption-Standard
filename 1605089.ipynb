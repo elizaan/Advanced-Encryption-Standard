{
 "cells": [
  {
   "cell_type": "markdown",
   "metadata": {},
   "source": [
    "# Importing necessary modules"
   ]
  },
  {
   "cell_type": "code",
   "execution_count": 40,
   "metadata": {},
   "outputs": [],
   "source": [
    "import time\n",
    "import numpy as np\n",
    "from BitVector import *\n",
    "Sbox = (\n",
    "    0x63, 0x7C, 0x77, 0x7B, 0xF2, 0x6B, 0x6F, 0xC5, 0x30, 0x01, 0x67, 0x2B, 0xFE, 0xD7, 0xAB, 0x76,\n",
    "    0xCA, 0x82, 0xC9, 0x7D, 0xFA, 0x59, 0x47, 0xF0, 0xAD, 0xD4, 0xA2, 0xAF, 0x9C, 0xA4, 0x72, 0xC0,\n",
    "    0xB7, 0xFD, 0x93, 0x26, 0x36, 0x3F, 0xF7, 0xCC, 0x34, 0xA5, 0xE5, 0xF1, 0x71, 0xD8, 0x31, 0x15,\n",
    "    0x04, 0xC7, 0x23, 0xC3, 0x18, 0x96, 0x05, 0x9A, 0x07, 0x12, 0x80, 0xE2, 0xEB, 0x27, 0xB2, 0x75,\n",
    "    0x09, 0x83, 0x2C, 0x1A, 0x1B, 0x6E, 0x5A, 0xA0, 0x52, 0x3B, 0xD6, 0xB3, 0x29, 0xE3, 0x2F, 0x84,\n",
    "    0x53, 0xD1, 0x00, 0xED, 0x20, 0xFC, 0xB1, 0x5B, 0x6A, 0xCB, 0xBE, 0x39, 0x4A, 0x4C, 0x58, 0xCF,\n",
    "    0xD0, 0xEF, 0xAA, 0xFB, 0x43, 0x4D, 0x33, 0x85, 0x45, 0xF9, 0x02, 0x7F, 0x50, 0x3C, 0x9F, 0xA8,\n",
    "    0x51, 0xA3, 0x40, 0x8F, 0x92, 0x9D, 0x38, 0xF5, 0xBC, 0xB6, 0xDA, 0x21, 0x10, 0xFF, 0xF3, 0xD2,\n",
    "    0xCD, 0x0C, 0x13, 0xEC, 0x5F, 0x97, 0x44, 0x17, 0xC4, 0xA7, 0x7E, 0x3D, 0x64, 0x5D, 0x19, 0x73,\n",
    "    0x60, 0x81, 0x4F, 0xDC, 0x22, 0x2A, 0x90, 0x88, 0x46, 0xEE, 0xB8, 0x14, 0xDE, 0x5E, 0x0B, 0xDB,\n",
    "    0xE0, 0x32, 0x3A, 0x0A, 0x49, 0x06, 0x24, 0x5C, 0xC2, 0xD3, 0xAC, 0x62, 0x91, 0x95, 0xE4, 0x79,\n",
    "    0xE7, 0xC8, 0x37, 0x6D, 0x8D, 0xD5, 0x4E, 0xA9, 0x6C, 0x56, 0xF4, 0xEA, 0x65, 0x7A, 0xAE, 0x08,\n",
    "    0xBA, 0x78, 0x25, 0x2E, 0x1C, 0xA6, 0xB4, 0xC6, 0xE8, 0xDD, 0x74, 0x1F, 0x4B, 0xBD, 0x8B, 0x8A,\n",
    "    0x70, 0x3E, 0xB5, 0x66, 0x48, 0x03, 0xF6, 0x0E, 0x61, 0x35, 0x57, 0xB9, 0x86, 0xC1, 0x1D, 0x9E,\n",
    "    0xE1, 0xF8, 0x98, 0x11, 0x69, 0xD9, 0x8E, 0x94, 0x9B, 0x1E, 0x87, 0xE9, 0xCE, 0x55, 0x28, 0xDF,\n",
    "    0x8C, 0xA1, 0x89, 0x0D, 0xBF, 0xE6, 0x42, 0x68, 0x41, 0x99, 0x2D, 0x0F, 0xB0, 0x54, 0xBB, 0x16,\n",
    ")\n",
    "\n",
    "InvSbox = (\n",
    "    0x52, 0x09, 0x6A, 0xD5, 0x30, 0x36, 0xA5, 0x38, 0xBF, 0x40, 0xA3, 0x9E, 0x81, 0xF3, 0xD7, 0xFB,\n",
    "    0x7C, 0xE3, 0x39, 0x82, 0x9B, 0x2F, 0xFF, 0x87, 0x34, 0x8E, 0x43, 0x44, 0xC4, 0xDE, 0xE9, 0xCB,\n",
    "    0x54, 0x7B, 0x94, 0x32, 0xA6, 0xC2, 0x23, 0x3D, 0xEE, 0x4C, 0x95, 0x0B, 0x42, 0xFA, 0xC3, 0x4E,\n",
    "    0x08, 0x2E, 0xA1, 0x66, 0x28, 0xD9, 0x24, 0xB2, 0x76, 0x5B, 0xA2, 0x49, 0x6D, 0x8B, 0xD1, 0x25,\n",
    "    0x72, 0xF8, 0xF6, 0x64, 0x86, 0x68, 0x98, 0x16, 0xD4, 0xA4, 0x5C, 0xCC, 0x5D, 0x65, 0xB6, 0x92,\n",
    "    0x6C, 0x70, 0x48, 0x50, 0xFD, 0xED, 0xB9, 0xDA, 0x5E, 0x15, 0x46, 0x57, 0xA7, 0x8D, 0x9D, 0x84,\n",
    "    0x90, 0xD8, 0xAB, 0x00, 0x8C, 0xBC, 0xD3, 0x0A, 0xF7, 0xE4, 0x58, 0x05, 0xB8, 0xB3, 0x45, 0x06,\n",
    "    0xD0, 0x2C, 0x1E, 0x8F, 0xCA, 0x3F, 0x0F, 0x02, 0xC1, 0xAF, 0xBD, 0x03, 0x01, 0x13, 0x8A, 0x6B,\n",
    "    0x3A, 0x91, 0x11, 0x41, 0x4F, 0x67, 0xDC, 0xEA, 0x97, 0xF2, 0xCF, 0xCE, 0xF0, 0xB4, 0xE6, 0x73,\n",
    "    0x96, 0xAC, 0x74, 0x22, 0xE7, 0xAD, 0x35, 0x85, 0xE2, 0xF9, 0x37, 0xE8, 0x1C, 0x75, 0xDF, 0x6E,\n",
    "    0x47, 0xF1, 0x1A, 0x71, 0x1D, 0x29, 0xC5, 0x89, 0x6F, 0xB7, 0x62, 0x0E, 0xAA, 0x18, 0xBE, 0x1B,\n",
    "    0xFC, 0x56, 0x3E, 0x4B, 0xC6, 0xD2, 0x79, 0x20, 0x9A, 0xDB, 0xC0, 0xFE, 0x78, 0xCD, 0x5A, 0xF4,\n",
    "    0x1F, 0xDD, 0xA8, 0x33, 0x88, 0x07, 0xC7, 0x31, 0xB1, 0x12, 0x10, 0x59, 0x27, 0x80, 0xEC, 0x5F,\n",
    "    0x60, 0x51, 0x7F, 0xA9, 0x19, 0xB5, 0x4A, 0x0D, 0x2D, 0xE5, 0x7A, 0x9F, 0x93, 0xC9, 0x9C, 0xEF,\n",
    "    0xA0, 0xE0, 0x3B, 0x4D, 0xAE, 0x2A, 0xF5, 0xB0, 0xC8, 0xEB, 0xBB, 0x3C, 0x83, 0x53, 0x99, 0x61,\n",
    "    0x17, 0x2B, 0x04, 0x7E, 0xBA, 0x77, 0xD6, 0x26, 0xE1, 0x69, 0x14, 0x63, 0x55, 0x21, 0x0C, 0x7D,\n",
    ")\n",
    "\n",
    "Mixer = [\n",
    "    [BitVector(hexstring=\"02\"), BitVector(hexstring=\"03\"), BitVector(hexstring=\"01\"), BitVector(hexstring=\"01\")],\n",
    "    [BitVector(hexstring=\"01\"), BitVector(hexstring=\"02\"), BitVector(hexstring=\"03\"), BitVector(hexstring=\"01\")],\n",
    "    [BitVector(hexstring=\"01\"), BitVector(hexstring=\"01\"), BitVector(hexstring=\"02\"), BitVector(hexstring=\"03\")],\n",
    "    [BitVector(hexstring=\"03\"), BitVector(hexstring=\"01\"), BitVector(hexstring=\"01\"), BitVector(hexstring=\"02\")]\n",
    "]\n",
    "\n",
    "InvMixer = [\n",
    "    [BitVector(hexstring=\"0E\"), BitVector(hexstring=\"0B\"), BitVector(hexstring=\"0D\"), BitVector(hexstring=\"09\")],\n",
    "    [BitVector(hexstring=\"09\"), BitVector(hexstring=\"0E\"), BitVector(hexstring=\"0B\"), BitVector(hexstring=\"0D\")],\n",
    "    [BitVector(hexstring=\"0D\"), BitVector(hexstring=\"09\"), BitVector(hexstring=\"0E\"), BitVector(hexstring=\"0B\")],\n",
    "    [BitVector(hexstring=\"0B\"), BitVector(hexstring=\"0D\"), BitVector(hexstring=\"09\"), BitVector(hexstring=\"0E\")]\n",
    "]"
   ]
  },
  {
   "cell_type": "markdown",
   "metadata": {},
   "source": [
    "# Converting to HexaDecimal"
   ]
  },
  {
   "cell_type": "code",
   "execution_count": 41,
   "metadata": {},
   "outputs": [
    {
     "name": "stdout",
     "output_type": "stream",
     "text": [
      "['' '' '' '' '' '' '' '' '' '' '' '' '' '' '' '']\n"
     ]
    }
   ],
   "source": [
    "first = np.empty(16, dtype='<U8')\n",
    "print(first)"
   ]
  },
  {
   "cell_type": "code",
   "execution_count": 42,
   "metadata": {},
   "outputs": [],
   "source": [
    "\n",
    "def convertingToHex(k):\n",
    " \n",
    "    # Initialize final String\n",
    "    hexa = \"\"\n",
    " \n",
    "    for i in range(len(k)):\n",
    "                   \n",
    "        ch = k[i]\n",
    " \n",
    "        in1 = ord(ch)\n",
    "   \n",
    "        part = hex(in1).lstrip(\"0x\").rstrip(\"L\")\n",
    "       # print(part)\n",
    "        first[i] = part\n",
    "    \n",
    "#         for i in range(0,4):\n",
    "#             for j in range(0,4):\n",
    "#                 first[j][i] = part\n",
    "\n",
    "#         np.append(first,(part))\n",
    "        \n",
    "        \n",
    "        \n",
    "        hexa += part\n",
    "                   \n",
    "    print(type(hexa))\n",
    " \n",
    "    return hexa"
   ]
  },
  {
   "cell_type": "markdown",
   "metadata": {},
   "source": [
    "#Taking input and converting the key into ASCII value "
   ]
  },
  {
   "cell_type": "code",
   "execution_count": 43,
   "metadata": {},
   "outputs": [
    {
     "name": "stdout",
     "output_type": "stream",
     "text": [
      "Enter the key:Thats my Kung Fu\n",
      "<class 'str'>\n",
      "5468617473206d79204b756e67204675\n",
      "[['54' '73' '20' '67']\n",
      " ['68' '20' '4b' '20']\n",
      " ['61' '6d' '75' '46']\n",
      " ['74' '79' '6e' '75']]\n"
     ]
    }
   ],
   "source": [
    "key = input(\"Enter the key:\" )\n",
    "hex_key= convertingToHex(key)\n",
    "print(hex_key)\n",
    "# np.transpose(first)\n",
    "first= np.reshape(first, (4,4))\n",
    "first = np.transpose(first)\n",
    "print(first)"
   ]
  },
  {
   "cell_type": "markdown",
   "metadata": {},
   "source": [
    "# Calculating g(w)"
   ]
  },
  {
   "cell_type": "code",
   "execution_count": 66,
   "metadata": {},
   "outputs": [],
   "source": [
    "def calculateG(lst,roundConstant):\n",
    "    lst2=[0,0,0,0]\n",
    "    #step1: circular byte shift\n",
    "    lst = np.asarray(lst)\n",
    "    lst = np.roll(lst, -1)\n",
    "    #step 2: Byte substitution\n",
    "    for i in range(0,len(lst)):\n",
    "        \n",
    "        b = BitVector(hexstring=lst[i])\n",
    "        int_val = b.intValue()\n",
    "        s = Sbox[int_val]\n",
    "        s = BitVector(intVal=s, size=8)\n",
    "        lst[i] = s.get_bitvector_in_hex()\n",
    "        #step 3: Adding round constant\n",
    "    array1 =[int(value, 16) for value in lst]\n",
    "    array2 =[int(value, 16) for value in roundConstant]\n",
    "#     print(array1)\n",
    "#     print(array2)\n",
    "    for i in range(0,len(array1)):\n",
    "        lst2[i] = array1[i] ^ array2[i]\n",
    "        lst2[i] = hex(lst2[i]).lstrip(\"0x\").rstrip(\"L\")\n",
    "#     print(lst)\n",
    "    return lst2"
   ]
  },
  {
   "cell_type": "markdown",
   "metadata": {},
   "source": [
    "# Saving w0,w1,w2,w3"
   ]
  },
  {
   "cell_type": "code",
   "execution_count": 84,
   "metadata": {},
   "outputs": [
    {
     "data": {
      "text/plain": [
       "['73', '20', '6d', '79']"
      ]
     },
     "execution_count": 84,
     "metadata": {},
     "output_type": "execute_result"
    }
   ],
   "source": [
    "w=[]\n",
    "w=[[first[0][0],first[1][0],first[2][0],first[3][0]],[first[0][1],first[1][1],first[2][1],first[3][1]],[first[0][2],first[1][2],first[2][2],first[3][2]],[first[0][3],first[1][3],first[2][3],first[3][3]]]\n",
    "w[1]"
   ]
  },
  {
   "cell_type": "markdown",
   "metadata": {},
   "source": [
    "# Generating 40 more keys with proper round constant "
   ]
  },
  {
   "cell_type": "code",
   "execution_count": 85,
   "metadata": {},
   "outputs": [
    {
     "name": "stdout",
     "output_type": "stream",
     "text": [
      "0\n",
      "4\n",
      "8\n",
      "12\n",
      "16\n",
      "20\n",
      "24\n",
      "28\n",
      "32\n",
      "36\n"
     ]
    }
   ],
   "source": [
    "r=[]\n",
    "g = [0,0,0,0]\n",
    "lst3 = [0,0,0,0]\n",
    "for i in range(0,40,4):\n",
    "    print(i)\n",
    "    if(i==0):\n",
    "        r.append([BitVector(intVal=0x01, size=8).get_bitvector_in_hex(),BitVector(intVal=0x00, size=8).get_bitvector_in_hex(),BitVector(intVal=0x00, size=8).get_bitvector_in_hex(),BitVector(intVal=0x00, size=8).get_bitvector_in_hex()])\n",
    "        r[0] = np.asarray(r[0])\n",
    "    #elif (i>0 and int(r[len(r)-1][0],16)< int('0x80',16)):\n",
    "    elif (i>0):\n",
    "        AES_modulus = BitVector(bitstring='100011011')\n",
    "\n",
    "        bv1 = BitVector(hexstring=\"02\")\n",
    "        bv2 = BitVector(hexstring=r[len(r)-1][0])\n",
    "        bv3 = bv1.gf_multiply_modular(bv2, AES_modulus, 8)\n",
    "        r.append([bv3.get_bitvector_in_hex(),BitVector(intVal=0x00, size=8).get_bitvector_in_hex(),BitVector(intVal=0x00, size=8).get_bitvector_in_hex(),BitVector(intVal=0x00, size=8).get_bitvector_in_hex()])\n",
    "        r[len(r)-1] = np.asarray(r[len(r)-1])\n",
    "        # This check should be used but idk why it gives error,if I use it,\n",
    "        #nothing matches with sir from round 9, then it gives index error in \n",
    "        #generating g, then round 10 doesn't occur\n",
    "#     elif (i>0 and int(r[len(r)-1][0],16)>= int('0x80',16)): \n",
    "        \n",
    "#         AES_modulus = BitVector(bitstring='100011011')\n",
    "\n",
    "#         bv1 = BitVector(hexstring=\"02\")\n",
    "#         bv2 = BitVector(hexstring=r[len(r)-1][0])\n",
    "#         bv3 = bv1.gf_multiply_modular(bv2, AES_modulus, 8)\n",
    "#         x = int(bv3.get_bitvector_in_hex(),16) ^ int('0x11B',16)\n",
    "#         x = hex(x).lstrip(\"0x\").rstrip(\"L\")\n",
    "#         r.append([x,BitVector(intVal=0x00, size=8).get_bitvector_in_hex(),BitVector(intVal=0x00, size=8).get_bitvector_in_hex(),BitVector(intVal=0x00, size=8).get_bitvector_in_hex()])\n",
    "#         r[len(r)-1] = np.asarray(r[len(r)-1])\n",
    "        \n",
    "        \n",
    "    g =  calculateG(w[i+3].copy(),r[len(r)-1]) \n",
    "    \n",
    "    array1 =[int(value, 16) for value in g]\n",
    "    array2 =[int(value, 16) for value in w[i].copy()]\n",
    "#     print(array1)\n",
    "#     print(array2)\n",
    "    for k in range(0,len(array1)):\n",
    "        lst3[k] = array1[k] ^ array2[k]\n",
    "        lst3[k] = hex(lst3[k]).lstrip(\"0x\").rstrip(\"L\")\n",
    "    w.append([lst3[0],lst3[1],lst3[2],lst3[3]])  \n",
    "#     print(w[len(w)-1])\n",
    "#     print(w[i+1])\n",
    "#     print(i+1)\n",
    "    \n",
    "    array1 =[int(value, 16) for value in w[len(w)-1].copy()]\n",
    "    array2 =[int(value, 16) for value in w[i+1].copy()]\n",
    "#     print(array1)\n",
    "#     print(array2)\n",
    "    for j in range(0,len(array1)):\n",
    "        lst3[j] = array1[j] ^ array2[j]\n",
    "        lst3[j] = hex(lst3[j]).lstrip(\"0x\").rstrip(\"L\")\n",
    "        #print(lst3[k])\n",
    "    w.append([lst3[0],lst3[1],lst3[2],lst3[3]]) \n",
    "    \n",
    "    array1 =[int(value, 16) for value in w[len(w)-1].copy()]\n",
    "    array2 =[int(value, 16) for value in w[i+2].copy()]\n",
    "#     print(array1)\n",
    "#     print(array2)\n",
    "    for h in range(0,len(array1)):\n",
    "        lst3[h] = array1[h] ^ array2[h]\n",
    "        lst3[h] = hex(lst3[h]).lstrip(\"0x\").rstrip(\"L\")\n",
    "    w.append([lst3[0],lst3[1],lst3[2],lst3[3]]) \n",
    "    \n",
    "    array1 =[int(value, 16) for value in w[len(w)-1].copy()]\n",
    "    array2 =[int(value, 16) for value in w[i+3].copy()]\n",
    "#     print(array1)\n",
    "#     print(array2)\n",
    "    for d in range(0,len(array1)):\n",
    "        lst3[d] = array1[d] ^ array2[d]\n",
    "        lst3[d] = hex(lst3[d]).lstrip(\"0x\").rstrip(\"L\")\n",
    "    w.append([lst3[0],lst3[1],lst3[2],lst3[3]]) "
   ]
  },
  {
   "cell_type": "code",
   "execution_count": 86,
   "metadata": {},
   "outputs": [
    {
     "data": {
      "text/plain": [
       "[['54', '68', '61', '74'],\n",
       " ['73', '20', '6d', '79'],\n",
       " ['20', '4b', '75', '6e'],\n",
       " ['67', '20', '46', '75'],\n",
       " ['e2', '32', 'fc', 'f1'],\n",
       " ['91', '12', '91', '88'],\n",
       " ['b1', '59', 'e4', 'e6'],\n",
       " ['d6', '79', 'a2', '93'],\n",
       " ['56', '8', '20', '7'],\n",
       " ['c7', '1a', 'b1', '8f'],\n",
       " ['76', '43', '55', '69'],\n",
       " ['a0', '3a', 'f7', 'fa'],\n",
       " ['d2', '60', 'd', 'e7'],\n",
       " ['15', '7a', 'bc', '68'],\n",
       " ['63', '39', 'e9', '1'],\n",
       " ['c3', '3', '1e', 'fb'],\n",
       " ['a1', '12', '2', 'c9'],\n",
       " ['b4', '68', 'be', 'a1'],\n",
       " ['d7', '51', '57', 'a0'],\n",
       " ['14', '52', '49', '5b'],\n",
       " ['b1', '29', '3b', '33'],\n",
       " ['5', '41', '85', '92'],\n",
       " ['d2', '10', 'd2', '32'],\n",
       " ['c6', '42', '9b', '69'],\n",
       " ['bd', '3d', 'c2', '87'],\n",
       " ['b8', '7c', '47', '15'],\n",
       " ['6a', '6c', '95', '27'],\n",
       " ['ac', '2e', 'e', '4e'],\n",
       " ['cc', '96', 'ed', '16'],\n",
       " ['74', 'ea', 'aa', '3'],\n",
       " ['1e', '86', '3f', '24'],\n",
       " ['b2', 'a8', '31', '6a'],\n",
       " ['8e', '51', 'ef', '21'],\n",
       " ['fa', 'bb', '45', '22'],\n",
       " ['e4', '3d', '7a', '6'],\n",
       " ['56', '95', '4b', '6c'],\n",
       " ['bf', 'e2', 'bf', '90'],\n",
       " ['45', '59', 'fa', 'b2'],\n",
       " ['a1', '64', '80', 'b4'],\n",
       " ['f7', 'f1', 'cb', 'd8'],\n",
       " ['28', 'fd', 'de', 'f8'],\n",
       " ['6d', 'a4', '24', '4a'],\n",
       " ['cc', 'c0', 'a4', 'fe'],\n",
       " ['3b', '31', '6f', '26']]"
      ]
     },
     "execution_count": 86,
     "metadata": {},
     "output_type": "execute_result"
    }
   ],
   "source": [
    "w"
   ]
  },
  {
   "cell_type": "code",
   "execution_count": null,
   "metadata": {},
   "outputs": [],
   "source": []
  }
 ],
 "metadata": {
  "kernelspec": {
   "display_name": "Python 3",
   "language": "python",
   "name": "python3"
  },
  "language_info": {
   "codemirror_mode": {
    "name": "ipython",
    "version": 3
   },
   "file_extension": ".py",
   "mimetype": "text/x-python",
   "name": "python",
   "nbconvert_exporter": "python",
   "pygments_lexer": "ipython3",
   "version": "3.7.7"
  }
 },
 "nbformat": 4,
 "nbformat_minor": 4
}
